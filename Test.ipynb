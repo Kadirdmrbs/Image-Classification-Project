{
 "cells": [
  {
   "cell_type": "code",
   "execution_count": 2,
   "id": "67079d8e",
   "metadata": {},
   "outputs": [],
   "source": [
    "import numpy as np"
   ]
  },
  {
   "cell_type": "code",
   "execution_count": 3,
   "id": "f993c567",
   "metadata": {},
   "outputs": [],
   "source": [
    "from tensorflow.keras.preprocessing import image"
   ]
  },
  {
   "cell_type": "code",
   "execution_count": 4,
   "id": "9fdec003",
   "metadata": {},
   "outputs": [],
   "source": [
    "from tensorflow.keras.models import load_model"
   ]
  },
  {
   "cell_type": "code",
   "execution_count": 14,
   "id": "95a3a2fa",
   "metadata": {},
   "outputs": [],
   "source": [
    "new_model = load_model('large_data_model_20_3.h5')"
   ]
  },
  {
   "cell_type": "code",
   "execution_count": 41,
   "id": "2a617a2e",
   "metadata": {},
   "outputs": [],
   "source": [
    "path = 'img/snake.jpg'"
   ]
  },
  {
   "cell_type": "code",
   "execution_count": 42,
   "id": "ed0fc2ae",
   "metadata": {},
   "outputs": [
    {
     "name": "stdout",
     "output_type": "stream",
     "text": [
      "Grass snake\n"
     ]
    }
   ],
   "source": [
    "image_shape = (399,500,3)\n",
    "my_image = image.load_img(path,target_size=image_shape)\n",
    "my_image = image.img_to_array(my_image)\n",
    "my_image = np.expand_dims(my_image, axis=0)\n",
    "result = new_model.predict(my_image)\n",
    "if result[0][0] == 1:\n",
    "    print('Bicycle')\n",
    "if result[0][1] == 1:\n",
    "    print('Grass snake')\n",
    "if result[0][2] == 1:\n",
    "    print('Jean')\n",
    "if result[0][3] == 1:\n",
    "    print('School bus')\n",
    "if result[0][4] == 1:\n",
    "    print('Street Sign')\n",
    "if result[0][5] == 1:\n",
    "    print('Traffic Light')\n"
   ]
  },
  {
   "cell_type": "code",
   "execution_count": null,
   "id": "b55cc47e",
   "metadata": {},
   "outputs": [],
   "source": []
  }
 ],
 "metadata": {
  "kernelspec": {
   "display_name": "Python 3",
   "language": "python",
   "name": "python3"
  },
  "language_info": {
   "codemirror_mode": {
    "name": "ipython",
    "version": 3
   },
   "file_extension": ".py",
   "mimetype": "text/x-python",
   "name": "python",
   "nbconvert_exporter": "python",
   "pygments_lexer": "ipython3",
   "version": "3.8.8"
  }
 },
 "nbformat": 4,
 "nbformat_minor": 5
}
