{
  "nbformat": 4,
  "nbformat_minor": 0,
  "metadata": {
    "colab": {
      "name": "Large Model2.ipynb",
      "provenance": [],
      "collapsed_sections": []
    },
    "kernelspec": {
      "name": "python3",
      "display_name": "Python 3"
    },
    "language_info": {
      "name": "python"
    },
    "accelerator": "GPU"
  },
  "cells": [
    {
      "cell_type": "code",
      "source": [
        "import os\n",
        "import pandas as pd\n",
        "import numpy as np\n",
        "import seaborn as sns\n",
        "import matplotlib.pyplot as plt\n",
        "from matplotlib.image import imread"
      ],
      "metadata": {
        "id": "Xdvh2NLqUAUK"
      },
      "execution_count": null,
      "outputs": []
    },
    {
      "cell_type": "code",
      "source": [
        "import zipfile\n",
        "import os\n",
        "\n",
        "zip_ref = zipfile.ZipFile('/content/drive/MyDrive/Large_Data.zip', 'r') #Opens the zip file in read mode\n",
        "zip_ref.extractall('/tmp') #Extracts the files into the /tmp folder\n",
        "zip_ref.close()"
      ],
      "metadata": {
        "id": "WhKp10kVZGMy"
      },
      "execution_count": null,
      "outputs": []
    },
    {
      "cell_type": "code",
      "source": [
        "os.listdir('/tmp/Large_Data')"
      ],
      "metadata": {
        "colab": {
          "base_uri": "https://localhost:8080/"
        },
        "id": "cGzbYH3-cN7W",
        "outputId": "bc5c2713-c643-4577-81a3-fe79f0e1beb2"
      },
      "execution_count": null,
      "outputs": [
        {
          "output_type": "execute_result",
          "data": {
            "text/plain": [
              "['val', 'test', 'train']"
            ]
          },
          "metadata": {},
          "execution_count": 3
        }
      ]
    },
    {
      "cell_type": "code",
      "source": [
        "train_path=\"/tmp/Large_Data/train\"\n",
        "test_path=\"/tmp/Large_Data/test\"\n",
        "val_path=\"/tmp/Large_Data/val\""
      ],
      "metadata": {
        "id": "vRSRpONEU9S5"
      },
      "execution_count": null,
      "outputs": []
    },
    {
      "cell_type": "code",
      "source": [
        "image_shape = (399,500,3)"
      ],
      "metadata": {
        "id": "dTqJ-s3eVj4I"
      },
      "execution_count": null,
      "outputs": []
    },
    {
      "cell_type": "code",
      "source": [
        "from tensorflow.keras.preprocessing.image import ImageDataGenerator"
      ],
      "metadata": {
        "id": "ePj-FRn5VubY"
      },
      "execution_count": null,
      "outputs": []
    },
    {
      "cell_type": "code",
      "source": [
        "image_gen = ImageDataGenerator(rotation_range=20, # rotate the image 20 degrees\n",
        "                               width_shift_range=0.10, # Shift the pic width by a max of 5%\n",
        "                               height_shift_range=0.10, # Shift the pic height by a max of 5%\n",
        "                               rescale=1/255, # Rescale the image by normalzing it.\n",
        "                               shear_range=0.1, # Shear means cutting away part of the image (max 10%)\n",
        "                               zoom_range=0.1, # Zoom in by 10% max\n",
        "                               horizontal_flip=True, # Allo horizontal flipping\n",
        "                               fill_mode='nearest' # Fill in missing pixels with the nearest filled value\n",
        "                              )"
      ],
      "metadata": {
        "id": "S39G1dCWVnZl"
      },
      "execution_count": null,
      "outputs": []
    },
    {
      "cell_type": "code",
      "source": [
        "os.listdir(train_path)"
      ],
      "metadata": {
        "colab": {
          "base_uri": "https://localhost:8080/"
        },
        "id": "FRxGGbeBWEP-",
        "outputId": "e89496c7-85e0-4424-c3ae-5c9d563d7f52"
      },
      "execution_count": null,
      "outputs": [
        {
          "output_type": "execute_result",
          "data": {
            "text/plain": [
              "['street sign',\n",
              " 'jean',\n",
              " 'school bus',\n",
              " 'grass snake',\n",
              " 'bicycle',\n",
              " 'traffic light']"
            ]
          },
          "metadata": {},
          "execution_count": 8
        }
      ]
    },
    {
      "cell_type": "code",
      "source": [
        "batch_size = 16"
      ],
      "metadata": {
        "id": "JuW3DiOFmykr"
      },
      "execution_count": null,
      "outputs": []
    },
    {
      "cell_type": "code",
      "source": [
        "training_set = image_gen.flow_from_directory(train_path,\n",
        "                                                 target_size = image_shape[:2],\n",
        "                                                 color_mode='rgb',\n",
        "                                                 batch_size=batch_size,\n",
        "                                                 class_mode = 'sparse')\n",
        "test_set = image_gen.flow_from_directory(test_path,\n",
        "                                            target_size = image_shape[:2],\n",
        "                                            color_mode='rgb',\n",
        "                                            batch_size=batch_size,\n",
        "                                            class_mode = 'sparse',\n",
        "                                            shuffle=False)\n",
        "val_set = image_gen.flow_from_directory(val_path,\n",
        "                                            target_size = image_shape[:2],\n",
        "                                            color_mode='rgb',\n",
        "                                            batch_size=batch_size,\n",
        "                                            class_mode = 'sparse',\n",
        "                                            shuffle=False)"
      ],
      "metadata": {
        "colab": {
          "base_uri": "https://localhost:8080/"
        },
        "id": "d_t_xWDhVwvi",
        "outputId": "b5a2afb0-ffab-413f-886c-e34d08fa88b3"
      },
      "execution_count": null,
      "outputs": [
        {
          "output_type": "stream",
          "name": "stdout",
          "text": [
            "Found 5346 images belonging to 6 classes.\n",
            "Found 595 images belonging to 6 classes.\n",
            "Found 1782 images belonging to 6 classes.\n"
          ]
        }
      ]
    },
    {
      "cell_type": "code",
      "source": [
        "train_y=training_set.classes\n",
        "test_y=test_set.classes\n",
        "val_y=val_set.classes"
      ],
      "metadata": {
        "id": "KRwZMiEAV0YL"
      },
      "execution_count": null,
      "outputs": []
    },
    {
      "cell_type": "code",
      "source": [
        "training_set.class_indices"
      ],
      "metadata": {
        "colab": {
          "base_uri": "https://localhost:8080/"
        },
        "id": "_CcNvTSgWtYO",
        "outputId": "5ab2efda-9411-4cc5-a561-898fe5b0fd3b"
      },
      "execution_count": null,
      "outputs": [
        {
          "output_type": "execute_result",
          "data": {
            "text/plain": [
              "{'bicycle': 0,\n",
              " 'grass snake': 1,\n",
              " 'jean': 2,\n",
              " 'school bus': 3,\n",
              " 'street sign': 4,\n",
              " 'traffic light': 5}"
            ]
          },
          "metadata": {},
          "execution_count": 12
        }
      ]
    },
    {
      "cell_type": "code",
      "source": [
        "from tensorflow.keras.models import Sequential\n",
        "from tensorflow.keras.layers import Activation, Dropout, Flatten, Dense, Conv2D, MaxPool2D"
      ],
      "metadata": {
        "id": "IaisdnAYWwet"
      },
      "execution_count": null,
      "outputs": []
    },
    {
      "cell_type": "code",
      "source": [
        "model = Sequential()\n",
        "\n",
        "model.add(Conv2D(filters=32,kernel_size=(3,3),\n",
        "                 input_shape=image_shape,\n",
        "                activation='relu',padding='same'))\n",
        "model.add(MaxPool2D(pool_size=(2,2)))\n",
        "\n",
        "\n",
        "model.add(Conv2D(filters=64,kernel_size=(3,3),\n",
        "                 input_shape=image_shape,\n",
        "                activation='relu',padding='same'))\n",
        "model.add(MaxPool2D(pool_size=(2,2)))\n",
        "\n",
        "\n",
        "model.add(Conv2D(filters=64,kernel_size=(3,3),\n",
        "                 input_shape=image_shape,\n",
        "                activation='relu',padding='same'))\n",
        "model.add(MaxPool2D(pool_size=(2,2)))\n",
        "\n",
        "model.add(Flatten())\n",
        "\n",
        "model.add(Dense(128,activation='relu'))\n",
        "model.add(Dropout(0.5))\n",
        "\n",
        "model.add(Dense(6,activation='softmax'))\n",
        "\n",
        "model.compile(loss='sparse_categorical_crossentropy',optimizer='adam',\n",
        "             metrics=['accuracy'])"
      ],
      "metadata": {
        "id": "I5kvuXopWzu1"
      },
      "execution_count": null,
      "outputs": []
    },
    {
      "cell_type": "code",
      "source": [
        "from tensorflow.keras.callbacks import EarlyStopping\n",
        "early_stop=EarlyStopping(monitor='val_loss',mode='min',verbose=1,patience=5)"
      ],
      "metadata": {
        "id": "7D98evv7W2d8"
      },
      "execution_count": null,
      "outputs": []
    },
    {
      "cell_type": "code",
      "source": [
        "model.summary()"
      ],
      "metadata": {
        "colab": {
          "base_uri": "https://localhost:8080/"
        },
        "id": "TWddTTcjW4TQ",
        "outputId": "0e5821aa-d1d4-4e3c-a9f0-cd9415f542ba"
      },
      "execution_count": null,
      "outputs": [
        {
          "output_type": "stream",
          "name": "stdout",
          "text": [
            "Model: \"sequential_1\"\n",
            "_________________________________________________________________\n",
            " Layer (type)                Output Shape              Param #   \n",
            "=================================================================\n",
            " conv2d_3 (Conv2D)           (None, 399, 500, 32)      896       \n",
            "                                                                 \n",
            " max_pooling2d_3 (MaxPooling  (None, 199, 250, 32)     0         \n",
            " 2D)                                                             \n",
            "                                                                 \n",
            " conv2d_4 (Conv2D)           (None, 199, 250, 64)      18496     \n",
            "                                                                 \n",
            " max_pooling2d_4 (MaxPooling  (None, 99, 125, 64)      0         \n",
            " 2D)                                                             \n",
            "                                                                 \n",
            " conv2d_5 (Conv2D)           (None, 99, 125, 64)       36928     \n",
            "                                                                 \n",
            " max_pooling2d_5 (MaxPooling  (None, 49, 62, 64)       0         \n",
            " 2D)                                                             \n",
            "                                                                 \n",
            " flatten_1 (Flatten)         (None, 194432)            0         \n",
            "                                                                 \n",
            " dense_2 (Dense)             (None, 128)               24887424  \n",
            "                                                                 \n",
            " dropout_1 (Dropout)         (None, 128)               0         \n",
            "                                                                 \n",
            " dense_3 (Dense)             (None, 6)                 774       \n",
            "                                                                 \n",
            "=================================================================\n",
            "Total params: 24,944,518\n",
            "Trainable params: 24,944,518\n",
            "Non-trainable params: 0\n",
            "_________________________________________________________________\n"
          ]
        }
      ]
    },
    {
      "cell_type": "code",
      "source": [
        "results = model.fit(training_set,\n",
        "                    validation_data=val_set,\n",
        "                    callbacks=[early_stop],\n",
        "                    epochs=20)"
      ],
      "metadata": {
        "colab": {
          "base_uri": "https://localhost:8080/"
        },
        "id": "13ePayFd6YUE",
        "outputId": "74c3a750-40ae-44f6-e61d-1c905a9e8fd9"
      },
      "execution_count": null,
      "outputs": [
        {
          "output_type": "stream",
          "name": "stdout",
          "text": [
            "Epoch 1/20\n",
            "335/335 [==============================] - 311s 928ms/step - loss: 1.5855 - accuracy: 0.4388 - val_loss: 1.2883 - val_accuracy: 0.5224\n",
            "Epoch 2/20\n",
            "335/335 [==============================] - 307s 916ms/step - loss: 1.1361 - accuracy: 0.5795 - val_loss: 0.8586 - val_accuracy: 0.7043\n",
            "Epoch 3/20\n",
            "335/335 [==============================] - 306s 913ms/step - loss: 0.9578 - accuracy: 0.6566 - val_loss: 0.8710 - val_accuracy: 0.6801\n",
            "Epoch 4/20\n",
            "335/335 [==============================] - 306s 914ms/step - loss: 0.8937 - accuracy: 0.6828 - val_loss: 0.9286 - val_accuracy: 0.6930\n",
            "Epoch 5/20\n",
            "335/335 [==============================] - 305s 910ms/step - loss: 0.8917 - accuracy: 0.6857 - val_loss: 0.7622 - val_accuracy: 0.7301\n",
            "Epoch 6/20\n",
            "335/335 [==============================] - 305s 911ms/step - loss: 0.8329 - accuracy: 0.7045 - val_loss: 0.8126 - val_accuracy: 0.7205\n",
            "Epoch 7/20\n",
            "335/335 [==============================] - 305s 910ms/step - loss: 0.8267 - accuracy: 0.7058 - val_loss: 0.6550 - val_accuracy: 0.7565\n",
            "Epoch 8/20\n",
            "335/335 [==============================] - 305s 911ms/step - loss: 0.7418 - accuracy: 0.7422 - val_loss: 0.6750 - val_accuracy: 0.7671\n",
            "Epoch 9/20\n",
            "335/335 [==============================] - 304s 907ms/step - loss: 0.7325 - accuracy: 0.7391 - val_loss: 0.7152 - val_accuracy: 0.7643\n",
            "Epoch 10/20\n",
            "335/335 [==============================] - 306s 913ms/step - loss: 0.7362 - accuracy: 0.7480 - val_loss: 0.6858 - val_accuracy: 0.7727\n",
            "Epoch 11/20\n",
            "335/335 [==============================] - 305s 912ms/step - loss: 0.7097 - accuracy: 0.7602 - val_loss: 0.6421 - val_accuracy: 0.7767\n",
            "Epoch 12/20\n",
            "335/335 [==============================] - 304s 908ms/step - loss: 0.6811 - accuracy: 0.7623 - val_loss: 0.6156 - val_accuracy: 0.7912\n",
            "Epoch 13/20\n",
            "335/335 [==============================] - 304s 909ms/step - loss: 0.6596 - accuracy: 0.7709 - val_loss: 0.6460 - val_accuracy: 0.7873\n",
            "Epoch 14/20\n",
            "335/335 [==============================] - 304s 909ms/step - loss: 0.6536 - accuracy: 0.7748 - val_loss: 0.5759 - val_accuracy: 0.8025\n",
            "Epoch 15/20\n",
            "335/335 [==============================] - 304s 908ms/step - loss: 0.5849 - accuracy: 0.7944 - val_loss: 0.6261 - val_accuracy: 0.7868\n",
            "Epoch 16/20\n",
            "335/335 [==============================] - 304s 908ms/step - loss: 0.6042 - accuracy: 0.7935 - val_loss: 0.6663 - val_accuracy: 0.7525\n",
            "Epoch 17/20\n",
            "335/335 [==============================] - 306s 914ms/step - loss: 0.6057 - accuracy: 0.7918 - val_loss: 0.6022 - val_accuracy: 0.7868\n",
            "Epoch 18/20\n",
            "335/335 [==============================] - 318s 949ms/step - loss: 0.5831 - accuracy: 0.8043 - val_loss: 0.5810 - val_accuracy: 0.8103\n",
            "Epoch 19/20\n",
            "335/335 [==============================] - 304s 907ms/step - loss: 0.5575 - accuracy: 0.8096 - val_loss: 0.5887 - val_accuracy: 0.8081\n",
            "Epoch 19: early stopping\n"
          ]
        }
      ]
    },
    {
      "cell_type": "code",
      "source": [
        "losses = pd.DataFrame(model.history.history)"
      ],
      "metadata": {
        "id": "Z6d9Nyo0W8QY"
      },
      "execution_count": null,
      "outputs": []
    },
    {
      "cell_type": "code",
      "source": [
        "losses.head()"
      ],
      "metadata": {
        "colab": {
          "base_uri": "https://localhost:8080/",
          "height": 206
        },
        "id": "UEA0wiVddAjX",
        "outputId": "d32d596b-3710-493e-b559-6ecfd5b9c347"
      },
      "execution_count": null,
      "outputs": [
        {
          "output_type": "execute_result",
          "data": {
            "text/plain": [
              "       loss  accuracy  val_loss  val_accuracy\n",
              "0  1.585458  0.438833  1.288271      0.522447\n",
              "1  1.136052  0.579499  0.858577      0.704265\n",
              "2  0.957790  0.656566  0.870952      0.680135\n",
              "3  0.893660  0.682753  0.928597      0.693042\n",
              "4  0.891716  0.685746  0.762246      0.730079"
            ],
            "text/html": [
              "\n",
              "  <div id=\"df-7cb1aedb-32f3-4df3-9908-3aeedabeb570\">\n",
              "    <div class=\"colab-df-container\">\n",
              "      <div>\n",
              "<style scoped>\n",
              "    .dataframe tbody tr th:only-of-type {\n",
              "        vertical-align: middle;\n",
              "    }\n",
              "\n",
              "    .dataframe tbody tr th {\n",
              "        vertical-align: top;\n",
              "    }\n",
              "\n",
              "    .dataframe thead th {\n",
              "        text-align: right;\n",
              "    }\n",
              "</style>\n",
              "<table border=\"1\" class=\"dataframe\">\n",
              "  <thead>\n",
              "    <tr style=\"text-align: right;\">\n",
              "      <th></th>\n",
              "      <th>loss</th>\n",
              "      <th>accuracy</th>\n",
              "      <th>val_loss</th>\n",
              "      <th>val_accuracy</th>\n",
              "    </tr>\n",
              "  </thead>\n",
              "  <tbody>\n",
              "    <tr>\n",
              "      <th>0</th>\n",
              "      <td>1.585458</td>\n",
              "      <td>0.438833</td>\n",
              "      <td>1.288271</td>\n",
              "      <td>0.522447</td>\n",
              "    </tr>\n",
              "    <tr>\n",
              "      <th>1</th>\n",
              "      <td>1.136052</td>\n",
              "      <td>0.579499</td>\n",
              "      <td>0.858577</td>\n",
              "      <td>0.704265</td>\n",
              "    </tr>\n",
              "    <tr>\n",
              "      <th>2</th>\n",
              "      <td>0.957790</td>\n",
              "      <td>0.656566</td>\n",
              "      <td>0.870952</td>\n",
              "      <td>0.680135</td>\n",
              "    </tr>\n",
              "    <tr>\n",
              "      <th>3</th>\n",
              "      <td>0.893660</td>\n",
              "      <td>0.682753</td>\n",
              "      <td>0.928597</td>\n",
              "      <td>0.693042</td>\n",
              "    </tr>\n",
              "    <tr>\n",
              "      <th>4</th>\n",
              "      <td>0.891716</td>\n",
              "      <td>0.685746</td>\n",
              "      <td>0.762246</td>\n",
              "      <td>0.730079</td>\n",
              "    </tr>\n",
              "  </tbody>\n",
              "</table>\n",
              "</div>\n",
              "      <button class=\"colab-df-convert\" onclick=\"convertToInteractive('df-7cb1aedb-32f3-4df3-9908-3aeedabeb570')\"\n",
              "              title=\"Convert this dataframe to an interactive table.\"\n",
              "              style=\"display:none;\">\n",
              "        \n",
              "  <svg xmlns=\"http://www.w3.org/2000/svg\" height=\"24px\"viewBox=\"0 0 24 24\"\n",
              "       width=\"24px\">\n",
              "    <path d=\"M0 0h24v24H0V0z\" fill=\"none\"/>\n",
              "    <path d=\"M18.56 5.44l.94 2.06.94-2.06 2.06-.94-2.06-.94-.94-2.06-.94 2.06-2.06.94zm-11 1L8.5 8.5l.94-2.06 2.06-.94-2.06-.94L8.5 2.5l-.94 2.06-2.06.94zm10 10l.94 2.06.94-2.06 2.06-.94-2.06-.94-.94-2.06-.94 2.06-2.06.94z\"/><path d=\"M17.41 7.96l-1.37-1.37c-.4-.4-.92-.59-1.43-.59-.52 0-1.04.2-1.43.59L10.3 9.45l-7.72 7.72c-.78.78-.78 2.05 0 2.83L4 21.41c.39.39.9.59 1.41.59.51 0 1.02-.2 1.41-.59l7.78-7.78 2.81-2.81c.8-.78.8-2.07 0-2.86zM5.41 20L4 18.59l7.72-7.72 1.47 1.35L5.41 20z\"/>\n",
              "  </svg>\n",
              "      </button>\n",
              "      \n",
              "  <style>\n",
              "    .colab-df-container {\n",
              "      display:flex;\n",
              "      flex-wrap:wrap;\n",
              "      gap: 12px;\n",
              "    }\n",
              "\n",
              "    .colab-df-convert {\n",
              "      background-color: #E8F0FE;\n",
              "      border: none;\n",
              "      border-radius: 50%;\n",
              "      cursor: pointer;\n",
              "      display: none;\n",
              "      fill: #1967D2;\n",
              "      height: 32px;\n",
              "      padding: 0 0 0 0;\n",
              "      width: 32px;\n",
              "    }\n",
              "\n",
              "    .colab-df-convert:hover {\n",
              "      background-color: #E2EBFA;\n",
              "      box-shadow: 0px 1px 2px rgba(60, 64, 67, 0.3), 0px 1px 3px 1px rgba(60, 64, 67, 0.15);\n",
              "      fill: #174EA6;\n",
              "    }\n",
              "\n",
              "    [theme=dark] .colab-df-convert {\n",
              "      background-color: #3B4455;\n",
              "      fill: #D2E3FC;\n",
              "    }\n",
              "\n",
              "    [theme=dark] .colab-df-convert:hover {\n",
              "      background-color: #434B5C;\n",
              "      box-shadow: 0px 1px 3px 1px rgba(0, 0, 0, 0.15);\n",
              "      filter: drop-shadow(0px 1px 2px rgba(0, 0, 0, 0.3));\n",
              "      fill: #FFFFFF;\n",
              "    }\n",
              "  </style>\n",
              "\n",
              "      <script>\n",
              "        const buttonEl =\n",
              "          document.querySelector('#df-7cb1aedb-32f3-4df3-9908-3aeedabeb570 button.colab-df-convert');\n",
              "        buttonEl.style.display =\n",
              "          google.colab.kernel.accessAllowed ? 'block' : 'none';\n",
              "\n",
              "        async function convertToInteractive(key) {\n",
              "          const element = document.querySelector('#df-7cb1aedb-32f3-4df3-9908-3aeedabeb570');\n",
              "          const dataTable =\n",
              "            await google.colab.kernel.invokeFunction('convertToInteractive',\n",
              "                                                     [key], {});\n",
              "          if (!dataTable) return;\n",
              "\n",
              "          const docLinkHtml = 'Like what you see? Visit the ' +\n",
              "            '<a target=\"_blank\" href=https://colab.research.google.com/notebooks/data_table.ipynb>data table notebook</a>'\n",
              "            + ' to learn more about interactive tables.';\n",
              "          element.innerHTML = '';\n",
              "          dataTable['output_type'] = 'display_data';\n",
              "          await google.colab.output.renderOutput(dataTable, element);\n",
              "          const docLink = document.createElement('div');\n",
              "          docLink.innerHTML = docLinkHtml;\n",
              "          element.appendChild(docLink);\n",
              "        }\n",
              "      </script>\n",
              "    </div>\n",
              "  </div>\n",
              "  "
            ]
          },
          "metadata": {},
          "execution_count": 23
        }
      ]
    },
    {
      "cell_type": "code",
      "source": [
        "losses[['accuracy','val_accuracy']].plot()"
      ],
      "metadata": {
        "colab": {
          "base_uri": "https://localhost:8080/",
          "height": 282
        },
        "id": "3Ealk4I_dBvo",
        "outputId": "62504837-74af-49e2-b545-6fe8022d028d"
      },
      "execution_count": null,
      "outputs": [
        {
          "output_type": "execute_result",
          "data": {
            "text/plain": [
              "<matplotlib.axes._subplots.AxesSubplot at 0x7f60aa1b4510>"
            ]
          },
          "metadata": {},
          "execution_count": 24
        },
        {
          "output_type": "display_data",
          "data": {
            "text/plain": [
              "<Figure size 432x288 with 1 Axes>"
            ],
            "image/png": "[encoded data removed]"
          },
          "metadata": {
            "needs_background": "light"
          }
        }
      ]
    },
    {
      "cell_type": "code",
      "source": [
        "losses[['loss','val_loss']].plot()"
      ],
      "metadata": {
        "colab": {
          "base_uri": "https://localhost:8080/",
          "height": 282
        },
        "id": "p2Gxq-ladC9J",
        "outputId": "c0c03918-db38-4230-a211-402807198b1b"
      },
      "execution_count": null,
      "outputs": [
        {
          "output_type": "execute_result",
          "data": {
            "text/plain": [
              "<matplotlib.axes._subplots.AxesSubplot at 0x7f60aa23b150>"
            ]
          },
          "metadata": {},
          "execution_count": 25
        },
        {
          "output_type": "display_data",
          "data": {
            "text/plain": [
              "<Figure size 432x288 with 1 Axes>"
            ],
            "image/png": "[encoded data removed]"
          },
          "metadata": {
            "needs_background": "light"
          }
        }
      ]
    },
    {
      "cell_type": "code",
      "source": [
        "model.evaluate(test_set,batch_size=32)"
      ],
      "metadata": {
        "colab": {
          "base_uri": "https://localhost:8080/"
        },
        "id": "PnDDTP-2dEsE",
        "outputId": "8f3a5bb7-aba0-44c2-ff80-981c6724ff74"
      },
      "execution_count": null,
      "outputs": [
        {
          "output_type": "stream",
          "name": "stdout",
          "text": [
            "38/38 [==============================] - 25s 659ms/step - loss: 0.5750 - accuracy: 0.8134\n"
          ]
        },
        {
          "output_type": "execute_result",
          "data": {
            "text/plain": [
              "[0.5750206112861633, 0.8134453892707825]"
            ]
          },
          "metadata": {},
          "execution_count": 26
        }
      ]
    },
    {
      "cell_type": "code",
      "source": [
        "model.save('large_data_model_20_3.h5')"
      ],
      "metadata": {
        "id": "dXoPhp5rks0c"
      },
      "execution_count": null,
      "outputs": []
    },
    {
      "cell_type": "code",
      "source": [
        "from sklearn.metrics import classification_report,confusion_matrix"
      ],
      "metadata": {
        "id": "uHPiEMoLeZQZ"
      },
      "execution_count": null,
      "outputs": []
    },
    {
      "cell_type": "code",
      "source": [
        "predict_y=model.predict(test_set)\n",
        "classes_y=np.argmax(predict_y,axis=1)"
      ],
      "metadata": {
        "id": "zI_Encl5P0lq"
      },
      "execution_count": null,
      "outputs": []
    },
    {
      "cell_type": "code",
      "source": [
        "print(classification_report(test_set.classes,classes_y))"
      ],
      "metadata": {
        "colab": {
          "base_uri": "https://localhost:8080/"
        },
        "id": "m7avzOf4P0Ia",
        "outputId": "0acd58b8-cd0f-4985-f8b4-f74d8228449f"
      },
      "execution_count": null,
      "outputs": [
        {
          "output_type": "stream",
          "name": "stdout",
          "text": [
            "              precision    recall  f1-score   support\n",
            "\n",
            "           0       0.78      0.91      0.84        99\n",
            "           1       0.90      0.95      0.93       100\n",
            "           2       0.79      0.83      0.81       100\n",
            "           3       0.91      0.99      0.95        96\n",
            "           4       0.86      0.62      0.72       100\n",
            "           5       0.74      0.70      0.72       100\n",
            "\n",
            "    accuracy                           0.83       595\n",
            "   macro avg       0.83      0.83      0.83       595\n",
            "weighted avg       0.83      0.83      0.83       595\n",
            "\n"
          ]
        }
      ]
    },
    {
      "cell_type": "code",
      "source": [
        ""
      ],
      "metadata": {
        "id": "nYWtm2PYPwt0"
      },
      "execution_count": null,
      "outputs": []
    }
  ]
}